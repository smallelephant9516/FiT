{
 "cells": [
  {
   "cell_type": "code",
   "execution_count": 10,
   "metadata": {},
   "outputs": [],
   "source": [
    "import plotly.express as px\n",
    "import numpy as np\n",
    "# Prepare the data (here we're using a simple example with a dataset of iris flowers)\n",
    "df = px.data.iris()"
   ]
  },
  {
   "cell_type": "code",
   "execution_count": 14,
   "metadata": {},
   "outputs": [
    {
     "data": {
      "text/html": [
       "<div>\n",
       "<style scoped>\n",
       "    .dataframe tbody tr th:only-of-type {\n",
       "        vertical-align: middle;\n",
       "    }\n",
       "\n",
       "    .dataframe tbody tr th {\n",
       "        vertical-align: top;\n",
       "    }\n",
       "\n",
       "    .dataframe thead th {\n",
       "        text-align: right;\n",
       "    }\n",
       "</style>\n",
       "<table border=\"1\" class=\"dataframe\">\n",
       "  <thead>\n",
       "    <tr style=\"text-align: right;\">\n",
       "      <th></th>\n",
       "      <th>sepal_length</th>\n",
       "      <th>sepal_width</th>\n",
       "      <th>petal_length</th>\n",
       "      <th>petal_width</th>\n",
       "      <th>species</th>\n",
       "      <th>species_id</th>\n",
       "    </tr>\n",
       "  </thead>\n",
       "  <tbody>\n",
       "    <tr>\n",
       "      <th>0</th>\n",
       "      <td>5.1</td>\n",
       "      <td>3.5</td>\n",
       "      <td>1.4</td>\n",
       "      <td>0.2</td>\n",
       "      <td>setosa</td>\n",
       "      <td>1</td>\n",
       "    </tr>\n",
       "    <tr>\n",
       "      <th>1</th>\n",
       "      <td>4.9</td>\n",
       "      <td>3.0</td>\n",
       "      <td>1.4</td>\n",
       "      <td>0.2</td>\n",
       "      <td>setosa</td>\n",
       "      <td>1</td>\n",
       "    </tr>\n",
       "    <tr>\n",
       "      <th>2</th>\n",
       "      <td>4.7</td>\n",
       "      <td>3.2</td>\n",
       "      <td>1.3</td>\n",
       "      <td>0.2</td>\n",
       "      <td>setosa</td>\n",
       "      <td>1</td>\n",
       "    </tr>\n",
       "    <tr>\n",
       "      <th>3</th>\n",
       "      <td>4.6</td>\n",
       "      <td>3.1</td>\n",
       "      <td>1.5</td>\n",
       "      <td>0.2</td>\n",
       "      <td>setosa</td>\n",
       "      <td>1</td>\n",
       "    </tr>\n",
       "    <tr>\n",
       "      <th>4</th>\n",
       "      <td>5.0</td>\n",
       "      <td>3.6</td>\n",
       "      <td>1.4</td>\n",
       "      <td>0.2</td>\n",
       "      <td>setosa</td>\n",
       "      <td>1</td>\n",
       "    </tr>\n",
       "    <tr>\n",
       "      <th>...</th>\n",
       "      <td>...</td>\n",
       "      <td>...</td>\n",
       "      <td>...</td>\n",
       "      <td>...</td>\n",
       "      <td>...</td>\n",
       "      <td>...</td>\n",
       "    </tr>\n",
       "    <tr>\n",
       "      <th>145</th>\n",
       "      <td>6.7</td>\n",
       "      <td>3.0</td>\n",
       "      <td>5.2</td>\n",
       "      <td>2.3</td>\n",
       "      <td>virginica</td>\n",
       "      <td>3</td>\n",
       "    </tr>\n",
       "    <tr>\n",
       "      <th>146</th>\n",
       "      <td>6.3</td>\n",
       "      <td>2.5</td>\n",
       "      <td>5.0</td>\n",
       "      <td>1.9</td>\n",
       "      <td>virginica</td>\n",
       "      <td>3</td>\n",
       "    </tr>\n",
       "    <tr>\n",
       "      <th>147</th>\n",
       "      <td>6.5</td>\n",
       "      <td>3.0</td>\n",
       "      <td>5.2</td>\n",
       "      <td>2.0</td>\n",
       "      <td>virginica</td>\n",
       "      <td>3</td>\n",
       "    </tr>\n",
       "    <tr>\n",
       "      <th>148</th>\n",
       "      <td>6.2</td>\n",
       "      <td>3.4</td>\n",
       "      <td>5.4</td>\n",
       "      <td>2.3</td>\n",
       "      <td>virginica</td>\n",
       "      <td>3</td>\n",
       "    </tr>\n",
       "    <tr>\n",
       "      <th>149</th>\n",
       "      <td>5.9</td>\n",
       "      <td>3.0</td>\n",
       "      <td>5.1</td>\n",
       "      <td>1.8</td>\n",
       "      <td>virginica</td>\n",
       "      <td>3</td>\n",
       "    </tr>\n",
       "  </tbody>\n",
       "</table>\n",
       "<p>150 rows × 6 columns</p>\n",
       "</div>"
      ],
      "text/plain": [
       "     sepal_length  sepal_width  petal_length  petal_width    species  \\\n",
       "0             5.1          3.5           1.4          0.2     setosa   \n",
       "1             4.9          3.0           1.4          0.2     setosa   \n",
       "2             4.7          3.2           1.3          0.2     setosa   \n",
       "3             4.6          3.1           1.5          0.2     setosa   \n",
       "4             5.0          3.6           1.4          0.2     setosa   \n",
       "..            ...          ...           ...          ...        ...   \n",
       "145           6.7          3.0           5.2          2.3  virginica   \n",
       "146           6.3          2.5           5.0          1.9  virginica   \n",
       "147           6.5          3.0           5.2          2.0  virginica   \n",
       "148           6.2          3.4           5.4          2.3  virginica   \n",
       "149           5.9          3.0           5.1          1.8  virginica   \n",
       "\n",
       "     species_id  \n",
       "0             1  \n",
       "1             1  \n",
       "2             1  \n",
       "3             1  \n",
       "4             1  \n",
       "..          ...  \n",
       "145           3  \n",
       "146           3  \n",
       "147           3  \n",
       "148           3  \n",
       "149           3  \n",
       "\n",
       "[150 rows x 6 columns]"
      ]
     },
     "execution_count": 14,
     "metadata": {},
     "output_type": "execute_result"
    }
   ],
   "source": [
    "df"
   ]
  },
  {
   "cell_type": "code",
   "execution_count": 15,
   "metadata": {},
   "outputs": [
    {
     "data": {
      "application/vnd.plotly.v1+json": {
       "config": {
        "plotlyServerURL": "https://plot.ly"
       },
       "data": [
        {
         "hovertemplate": "x=%{x}<br>index=%{y}<extra></extra>",
         "legendgroup": "",
         "marker": {
          "color": "#636efa",
          "symbol": "circle"
         },
         "mode": "markers",
         "name": "",
         "orientation": "h",
         "showlegend": false,
         "type": "scatter",
         "x": [
          5.1,
          4.9,
          4.7,
          4.6,
          5,
          5.4,
          4.6,
          5,
          4.4,
          4.9,
          5.4,
          4.8,
          4.8,
          4.3,
          5.8,
          5.7,
          5.4,
          5.1,
          5.7,
          5.1,
          5.4,
          5.1,
          4.6,
          5.1,
          4.8,
          5,
          5,
          5.2,
          5.2,
          4.7,
          4.8,
          5.4,
          5.2,
          5.5,
          4.9,
          5,
          5.5,
          4.9,
          4.4,
          5.1,
          5,
          4.5,
          4.4,
          5,
          5.1,
          4.8,
          5.1,
          4.6,
          5.3,
          5,
          7,
          6.4,
          6.9,
          5.5,
          6.5,
          5.7,
          6.3,
          4.9,
          6.6,
          5.2,
          5,
          5.9,
          6,
          6.1,
          5.6,
          6.7,
          5.6,
          5.8,
          6.2,
          5.6,
          5.9,
          6.1,
          6.3,
          6.1,
          6.4,
          6.6,
          6.8,
          6.7,
          6,
          5.7,
          5.5,
          5.5,
          5.8,
          6,
          5.4,
          6,
          6.7,
          6.3,
          5.6,
          5.5,
          5.5,
          6.1,
          5.8,
          5,
          5.6,
          5.7,
          5.7,
          6.2,
          5.1,
          5.7,
          6.3,
          5.8,
          7.1,
          6.3,
          6.5,
          7.6,
          4.9,
          7.3,
          6.7,
          7.2,
          6.5,
          6.4,
          6.8,
          5.7,
          5.8,
          6.4,
          6.5,
          7.7,
          7.7,
          6,
          6.9,
          5.6,
          7.7,
          6.3,
          6.7,
          7.2,
          6.2,
          6.1,
          6.4,
          7.2,
          7.4,
          7.9,
          6.4,
          6.3,
          6.1,
          7.7,
          6.3,
          6.4,
          6,
          6.9,
          6.7,
          6.9,
          5.8,
          6.8,
          6.7,
          6.7,
          6.3,
          6.5,
          6.2,
          5.9
         ],
         "xaxis": "x",
         "y": [
          0,
          1,
          2,
          3,
          4,
          5,
          6,
          7,
          8,
          9,
          10,
          11,
          12,
          13,
          14,
          15,
          16,
          17,
          18,
          19,
          20,
          21,
          22,
          23,
          24,
          25,
          26,
          27,
          28,
          29,
          30,
          31,
          32,
          33,
          34,
          35,
          36,
          37,
          38,
          39,
          40,
          41,
          42,
          43,
          44,
          45,
          46,
          47,
          48,
          49,
          50,
          51,
          52,
          53,
          54,
          55,
          56,
          57,
          58,
          59,
          60,
          61,
          62,
          63,
          64,
          65,
          66,
          67,
          68,
          69,
          70,
          71,
          72,
          73,
          74,
          75,
          76,
          77,
          78,
          79,
          80,
          81,
          82,
          83,
          84,
          85,
          86,
          87,
          88,
          89,
          90,
          91,
          92,
          93,
          94,
          95,
          96,
          97,
          98,
          99,
          100,
          101,
          102,
          103,
          104,
          105,
          106,
          107,
          108,
          109,
          110,
          111,
          112,
          113,
          114,
          115,
          116,
          117,
          118,
          119,
          120,
          121,
          122,
          123,
          124,
          125,
          126,
          127,
          128,
          129,
          130,
          131,
          132,
          133,
          134,
          135,
          136,
          137,
          138,
          139,
          140,
          141,
          142,
          143,
          144,
          145,
          146,
          147,
          148,
          149
         ],
         "yaxis": "y"
        }
       ],
       "layout": {
        "legend": {
         "tracegroupgap": 0
        },
        "margin": {
         "t": 60
        },
        "template": {
         "data": {
          "bar": [
           {
            "error_x": {
             "color": "#2a3f5f"
            },
            "error_y": {
             "color": "#2a3f5f"
            },
            "marker": {
             "line": {
              "color": "#E5ECF6",
              "width": 0.5
             },
             "pattern": {
              "fillmode": "overlay",
              "size": 10,
              "solidity": 0.2
             }
            },
            "type": "bar"
           }
          ],
          "barpolar": [
           {
            "marker": {
             "line": {
              "color": "#E5ECF6",
              "width": 0.5
             },
             "pattern": {
              "fillmode": "overlay",
              "size": 10,
              "solidity": 0.2
             }
            },
            "type": "barpolar"
           }
          ],
          "carpet": [
           {
            "aaxis": {
             "endlinecolor": "#2a3f5f",
             "gridcolor": "white",
             "linecolor": "white",
             "minorgridcolor": "white",
             "startlinecolor": "#2a3f5f"
            },
            "baxis": {
             "endlinecolor": "#2a3f5f",
             "gridcolor": "white",
             "linecolor": "white",
             "minorgridcolor": "white",
             "startlinecolor": "#2a3f5f"
            },
            "type": "carpet"
           }
          ],
          "choropleth": [
           {
            "colorbar": {
             "outlinewidth": 0,
             "ticks": ""
            },
            "type": "choropleth"
           }
          ],
          "contour": [
           {
            "colorbar": {
             "outlinewidth": 0,
             "ticks": ""
            },
            "colorscale": [
             [
              0,
              "#0d0887"
             ],
             [
              0.1111111111111111,
              "#46039f"
             ],
             [
              0.2222222222222222,
              "#7201a8"
             ],
             [
              0.3333333333333333,
              "#9c179e"
             ],
             [
              0.4444444444444444,
              "#bd3786"
             ],
             [
              0.5555555555555556,
              "#d8576b"
             ],
             [
              0.6666666666666666,
              "#ed7953"
             ],
             [
              0.7777777777777778,
              "#fb9f3a"
             ],
             [
              0.8888888888888888,
              "#fdca26"
             ],
             [
              1,
              "#f0f921"
             ]
            ],
            "type": "contour"
           }
          ],
          "contourcarpet": [
           {
            "colorbar": {
             "outlinewidth": 0,
             "ticks": ""
            },
            "type": "contourcarpet"
           }
          ],
          "heatmap": [
           {
            "colorbar": {
             "outlinewidth": 0,
             "ticks": ""
            },
            "colorscale": [
             [
              0,
              "#0d0887"
             ],
             [
              0.1111111111111111,
              "#46039f"
             ],
             [
              0.2222222222222222,
              "#7201a8"
             ],
             [
              0.3333333333333333,
              "#9c179e"
             ],
             [
              0.4444444444444444,
              "#bd3786"
             ],
             [
              0.5555555555555556,
              "#d8576b"
             ],
             [
              0.6666666666666666,
              "#ed7953"
             ],
             [
              0.7777777777777778,
              "#fb9f3a"
             ],
             [
              0.8888888888888888,
              "#fdca26"
             ],
             [
              1,
              "#f0f921"
             ]
            ],
            "type": "heatmap"
           }
          ],
          "heatmapgl": [
           {
            "colorbar": {
             "outlinewidth": 0,
             "ticks": ""
            },
            "colorscale": [
             [
              0,
              "#0d0887"
             ],
             [
              0.1111111111111111,
              "#46039f"
             ],
             [
              0.2222222222222222,
              "#7201a8"
             ],
             [
              0.3333333333333333,
              "#9c179e"
             ],
             [
              0.4444444444444444,
              "#bd3786"
             ],
             [
              0.5555555555555556,
              "#d8576b"
             ],
             [
              0.6666666666666666,
              "#ed7953"
             ],
             [
              0.7777777777777778,
              "#fb9f3a"
             ],
             [
              0.8888888888888888,
              "#fdca26"
             ],
             [
              1,
              "#f0f921"
             ]
            ],
            "type": "heatmapgl"
           }
          ],
          "histogram": [
           {
            "marker": {
             "pattern": {
              "fillmode": "overlay",
              "size": 10,
              "solidity": 0.2
             }
            },
            "type": "histogram"
           }
          ],
          "histogram2d": [
           {
            "colorbar": {
             "outlinewidth": 0,
             "ticks": ""
            },
            "colorscale": [
             [
              0,
              "#0d0887"
             ],
             [
              0.1111111111111111,
              "#46039f"
             ],
             [
              0.2222222222222222,
              "#7201a8"
             ],
             [
              0.3333333333333333,
              "#9c179e"
             ],
             [
              0.4444444444444444,
              "#bd3786"
             ],
             [
              0.5555555555555556,
              "#d8576b"
             ],
             [
              0.6666666666666666,
              "#ed7953"
             ],
             [
              0.7777777777777778,
              "#fb9f3a"
             ],
             [
              0.8888888888888888,
              "#fdca26"
             ],
             [
              1,
              "#f0f921"
             ]
            ],
            "type": "histogram2d"
           }
          ],
          "histogram2dcontour": [
           {
            "colorbar": {
             "outlinewidth": 0,
             "ticks": ""
            },
            "colorscale": [
             [
              0,
              "#0d0887"
             ],
             [
              0.1111111111111111,
              "#46039f"
             ],
             [
              0.2222222222222222,
              "#7201a8"
             ],
             [
              0.3333333333333333,
              "#9c179e"
             ],
             [
              0.4444444444444444,
              "#bd3786"
             ],
             [
              0.5555555555555556,
              "#d8576b"
             ],
             [
              0.6666666666666666,
              "#ed7953"
             ],
             [
              0.7777777777777778,
              "#fb9f3a"
             ],
             [
              0.8888888888888888,
              "#fdca26"
             ],
             [
              1,
              "#f0f921"
             ]
            ],
            "type": "histogram2dcontour"
           }
          ],
          "mesh3d": [
           {
            "colorbar": {
             "outlinewidth": 0,
             "ticks": ""
            },
            "type": "mesh3d"
           }
          ],
          "parcoords": [
           {
            "line": {
             "colorbar": {
              "outlinewidth": 0,
              "ticks": ""
             }
            },
            "type": "parcoords"
           }
          ],
          "pie": [
           {
            "automargin": true,
            "type": "pie"
           }
          ],
          "scatter": [
           {
            "fillpattern": {
             "fillmode": "overlay",
             "size": 10,
             "solidity": 0.2
            },
            "type": "scatter"
           }
          ],
          "scatter3d": [
           {
            "line": {
             "colorbar": {
              "outlinewidth": 0,
              "ticks": ""
             }
            },
            "marker": {
             "colorbar": {
              "outlinewidth": 0,
              "ticks": ""
             }
            },
            "type": "scatter3d"
           }
          ],
          "scattercarpet": [
           {
            "marker": {
             "colorbar": {
              "outlinewidth": 0,
              "ticks": ""
             }
            },
            "type": "scattercarpet"
           }
          ],
          "scattergeo": [
           {
            "marker": {
             "colorbar": {
              "outlinewidth": 0,
              "ticks": ""
             }
            },
            "type": "scattergeo"
           }
          ],
          "scattergl": [
           {
            "marker": {
             "colorbar": {
              "outlinewidth": 0,
              "ticks": ""
             }
            },
            "type": "scattergl"
           }
          ],
          "scattermapbox": [
           {
            "marker": {
             "colorbar": {
              "outlinewidth": 0,
              "ticks": ""
             }
            },
            "type": "scattermapbox"
           }
          ],
          "scatterpolar": [
           {
            "marker": {
             "colorbar": {
              "outlinewidth": 0,
              "ticks": ""
             }
            },
            "type": "scatterpolar"
           }
          ],
          "scatterpolargl": [
           {
            "marker": {
             "colorbar": {
              "outlinewidth": 0,
              "ticks": ""
             }
            },
            "type": "scatterpolargl"
           }
          ],
          "scatterternary": [
           {
            "marker": {
             "colorbar": {
              "outlinewidth": 0,
              "ticks": ""
             }
            },
            "type": "scatterternary"
           }
          ],
          "surface": [
           {
            "colorbar": {
             "outlinewidth": 0,
             "ticks": ""
            },
            "colorscale": [
             [
              0,
              "#0d0887"
             ],
             [
              0.1111111111111111,
              "#46039f"
             ],
             [
              0.2222222222222222,
              "#7201a8"
             ],
             [
              0.3333333333333333,
              "#9c179e"
             ],
             [
              0.4444444444444444,
              "#bd3786"
             ],
             [
              0.5555555555555556,
              "#d8576b"
             ],
             [
              0.6666666666666666,
              "#ed7953"
             ],
             [
              0.7777777777777778,
              "#fb9f3a"
             ],
             [
              0.8888888888888888,
              "#fdca26"
             ],
             [
              1,
              "#f0f921"
             ]
            ],
            "type": "surface"
           }
          ],
          "table": [
           {
            "cells": {
             "fill": {
              "color": "#EBF0F8"
             },
             "line": {
              "color": "white"
             }
            },
            "header": {
             "fill": {
              "color": "#C8D4E3"
             },
             "line": {
              "color": "white"
             }
            },
            "type": "table"
           }
          ]
         },
         "layout": {
          "annotationdefaults": {
           "arrowcolor": "#2a3f5f",
           "arrowhead": 0,
           "arrowwidth": 1
          },
          "autotypenumbers": "strict",
          "coloraxis": {
           "colorbar": {
            "outlinewidth": 0,
            "ticks": ""
           }
          },
          "colorscale": {
           "diverging": [
            [
             0,
             "#8e0152"
            ],
            [
             0.1,
             "#c51b7d"
            ],
            [
             0.2,
             "#de77ae"
            ],
            [
             0.3,
             "#f1b6da"
            ],
            [
             0.4,
             "#fde0ef"
            ],
            [
             0.5,
             "#f7f7f7"
            ],
            [
             0.6,
             "#e6f5d0"
            ],
            [
             0.7,
             "#b8e186"
            ],
            [
             0.8,
             "#7fbc41"
            ],
            [
             0.9,
             "#4d9221"
            ],
            [
             1,
             "#276419"
            ]
           ],
           "sequential": [
            [
             0,
             "#0d0887"
            ],
            [
             0.1111111111111111,
             "#46039f"
            ],
            [
             0.2222222222222222,
             "#7201a8"
            ],
            [
             0.3333333333333333,
             "#9c179e"
            ],
            [
             0.4444444444444444,
             "#bd3786"
            ],
            [
             0.5555555555555556,
             "#d8576b"
            ],
            [
             0.6666666666666666,
             "#ed7953"
            ],
            [
             0.7777777777777778,
             "#fb9f3a"
            ],
            [
             0.8888888888888888,
             "#fdca26"
            ],
            [
             1,
             "#f0f921"
            ]
           ],
           "sequentialminus": [
            [
             0,
             "#0d0887"
            ],
            [
             0.1111111111111111,
             "#46039f"
            ],
            [
             0.2222222222222222,
             "#7201a8"
            ],
            [
             0.3333333333333333,
             "#9c179e"
            ],
            [
             0.4444444444444444,
             "#bd3786"
            ],
            [
             0.5555555555555556,
             "#d8576b"
            ],
            [
             0.6666666666666666,
             "#ed7953"
            ],
            [
             0.7777777777777778,
             "#fb9f3a"
            ],
            [
             0.8888888888888888,
             "#fdca26"
            ],
            [
             1,
             "#f0f921"
            ]
           ]
          },
          "colorway": [
           "#636efa",
           "#EF553B",
           "#00cc96",
           "#ab63fa",
           "#FFA15A",
           "#19d3f3",
           "#FF6692",
           "#B6E880",
           "#FF97FF",
           "#FECB52"
          ],
          "font": {
           "color": "#2a3f5f"
          },
          "geo": {
           "bgcolor": "white",
           "lakecolor": "white",
           "landcolor": "#E5ECF6",
           "showlakes": true,
           "showland": true,
           "subunitcolor": "white"
          },
          "hoverlabel": {
           "align": "left"
          },
          "hovermode": "closest",
          "mapbox": {
           "style": "light"
          },
          "paper_bgcolor": "white",
          "plot_bgcolor": "#E5ECF6",
          "polar": {
           "angularaxis": {
            "gridcolor": "white",
            "linecolor": "white",
            "ticks": ""
           },
           "bgcolor": "#E5ECF6",
           "radialaxis": {
            "gridcolor": "white",
            "linecolor": "white",
            "ticks": ""
           }
          },
          "scene": {
           "xaxis": {
            "backgroundcolor": "#E5ECF6",
            "gridcolor": "white",
            "gridwidth": 2,
            "linecolor": "white",
            "showbackground": true,
            "ticks": "",
            "zerolinecolor": "white"
           },
           "yaxis": {
            "backgroundcolor": "#E5ECF6",
            "gridcolor": "white",
            "gridwidth": 2,
            "linecolor": "white",
            "showbackground": true,
            "ticks": "",
            "zerolinecolor": "white"
           },
           "zaxis": {
            "backgroundcolor": "#E5ECF6",
            "gridcolor": "white",
            "gridwidth": 2,
            "linecolor": "white",
            "showbackground": true,
            "ticks": "",
            "zerolinecolor": "white"
           }
          },
          "shapedefaults": {
           "line": {
            "color": "#2a3f5f"
           }
          },
          "ternary": {
           "aaxis": {
            "gridcolor": "white",
            "linecolor": "white",
            "ticks": ""
           },
           "baxis": {
            "gridcolor": "white",
            "linecolor": "white",
            "ticks": ""
           },
           "bgcolor": "#E5ECF6",
           "caxis": {
            "gridcolor": "white",
            "linecolor": "white",
            "ticks": ""
           }
          },
          "title": {
           "x": 0.05
          },
          "xaxis": {
           "automargin": true,
           "gridcolor": "white",
           "linecolor": "white",
           "ticks": "",
           "title": {
            "standoff": 15
           },
           "zerolinecolor": "white",
           "zerolinewidth": 2
          },
          "yaxis": {
           "automargin": true,
           "gridcolor": "white",
           "linecolor": "white",
           "ticks": "",
           "title": {
            "standoff": 15
           },
           "zerolinecolor": "white",
           "zerolinewidth": 2
          }
         }
        },
        "xaxis": {
         "anchor": "y",
         "domain": [
          0,
          1
         ],
         "title": {
          "text": "x"
         }
        },
        "yaxis": {
         "anchor": "x",
         "domain": [
          0,
          1
         ],
         "title": {
          "text": "index"
         }
        }
       }
      },
      "text/html": [
       "<div>                            <div id=\"6d30feea-5fc4-4393-b472-d185b06dad53\" class=\"plotly-graph-div\" style=\"height:525px; width:100%;\"></div>            <script type=\"text/javascript\">                require([\"plotly\"], function(Plotly) {                    window.PLOTLYENV=window.PLOTLYENV || {};                                    if (document.getElementById(\"6d30feea-5fc4-4393-b472-d185b06dad53\")) {                    Plotly.newPlot(                        \"6d30feea-5fc4-4393-b472-d185b06dad53\",                        [{\"hovertemplate\":\"x=%{x}<br>index=%{y}<extra></extra>\",\"legendgroup\":\"\",\"marker\":{\"color\":\"#636efa\",\"symbol\":\"circle\"},\"mode\":\"markers\",\"name\":\"\",\"orientation\":\"h\",\"showlegend\":false,\"x\":[5.1,4.9,4.7,4.6,5.0,5.4,4.6,5.0,4.4,4.9,5.4,4.8,4.8,4.3,5.8,5.7,5.4,5.1,5.7,5.1,5.4,5.1,4.6,5.1,4.8,5.0,5.0,5.2,5.2,4.7,4.8,5.4,5.2,5.5,4.9,5.0,5.5,4.9,4.4,5.1,5.0,4.5,4.4,5.0,5.1,4.8,5.1,4.6,5.3,5.0,7.0,6.4,6.9,5.5,6.5,5.7,6.3,4.9,6.6,5.2,5.0,5.9,6.0,6.1,5.6,6.7,5.6,5.8,6.2,5.6,5.9,6.1,6.3,6.1,6.4,6.6,6.8,6.7,6.0,5.7,5.5,5.5,5.8,6.0,5.4,6.0,6.7,6.3,5.6,5.5,5.5,6.1,5.8,5.0,5.6,5.7,5.7,6.2,5.1,5.7,6.3,5.8,7.1,6.3,6.5,7.6,4.9,7.3,6.7,7.2,6.5,6.4,6.8,5.7,5.8,6.4,6.5,7.7,7.7,6.0,6.9,5.6,7.7,6.3,6.7,7.2,6.2,6.1,6.4,7.2,7.4,7.9,6.4,6.3,6.1,7.7,6.3,6.4,6.0,6.9,6.7,6.9,5.8,6.8,6.7,6.7,6.3,6.5,6.2,5.9],\"xaxis\":\"x\",\"y\":[0,1,2,3,4,5,6,7,8,9,10,11,12,13,14,15,16,17,18,19,20,21,22,23,24,25,26,27,28,29,30,31,32,33,34,35,36,37,38,39,40,41,42,43,44,45,46,47,48,49,50,51,52,53,54,55,56,57,58,59,60,61,62,63,64,65,66,67,68,69,70,71,72,73,74,75,76,77,78,79,80,81,82,83,84,85,86,87,88,89,90,91,92,93,94,95,96,97,98,99,100,101,102,103,104,105,106,107,108,109,110,111,112,113,114,115,116,117,118,119,120,121,122,123,124,125,126,127,128,129,130,131,132,133,134,135,136,137,138,139,140,141,142,143,144,145,146,147,148,149],\"yaxis\":\"y\",\"type\":\"scatter\"}],                        {\"template\":{\"data\":{\"histogram2dcontour\":[{\"type\":\"histogram2dcontour\",\"colorbar\":{\"outlinewidth\":0,\"ticks\":\"\"},\"colorscale\":[[0.0,\"#0d0887\"],[0.1111111111111111,\"#46039f\"],[0.2222222222222222,\"#7201a8\"],[0.3333333333333333,\"#9c179e\"],[0.4444444444444444,\"#bd3786\"],[0.5555555555555556,\"#d8576b\"],[0.6666666666666666,\"#ed7953\"],[0.7777777777777778,\"#fb9f3a\"],[0.8888888888888888,\"#fdca26\"],[1.0,\"#f0f921\"]]}],\"choropleth\":[{\"type\":\"choropleth\",\"colorbar\":{\"outlinewidth\":0,\"ticks\":\"\"}}],\"histogram2d\":[{\"type\":\"histogram2d\",\"colorbar\":{\"outlinewidth\":0,\"ticks\":\"\"},\"colorscale\":[[0.0,\"#0d0887\"],[0.1111111111111111,\"#46039f\"],[0.2222222222222222,\"#7201a8\"],[0.3333333333333333,\"#9c179e\"],[0.4444444444444444,\"#bd3786\"],[0.5555555555555556,\"#d8576b\"],[0.6666666666666666,\"#ed7953\"],[0.7777777777777778,\"#fb9f3a\"],[0.8888888888888888,\"#fdca26\"],[1.0,\"#f0f921\"]]}],\"heatmap\":[{\"type\":\"heatmap\",\"colorbar\":{\"outlinewidth\":0,\"ticks\":\"\"},\"colorscale\":[[0.0,\"#0d0887\"],[0.1111111111111111,\"#46039f\"],[0.2222222222222222,\"#7201a8\"],[0.3333333333333333,\"#9c179e\"],[0.4444444444444444,\"#bd3786\"],[0.5555555555555556,\"#d8576b\"],[0.6666666666666666,\"#ed7953\"],[0.7777777777777778,\"#fb9f3a\"],[0.8888888888888888,\"#fdca26\"],[1.0,\"#f0f921\"]]}],\"heatmapgl\":[{\"type\":\"heatmapgl\",\"colorbar\":{\"outlinewidth\":0,\"ticks\":\"\"},\"colorscale\":[[0.0,\"#0d0887\"],[0.1111111111111111,\"#46039f\"],[0.2222222222222222,\"#7201a8\"],[0.3333333333333333,\"#9c179e\"],[0.4444444444444444,\"#bd3786\"],[0.5555555555555556,\"#d8576b\"],[0.6666666666666666,\"#ed7953\"],[0.7777777777777778,\"#fb9f3a\"],[0.8888888888888888,\"#fdca26\"],[1.0,\"#f0f921\"]]}],\"contourcarpet\":[{\"type\":\"contourcarpet\",\"colorbar\":{\"outlinewidth\":0,\"ticks\":\"\"}}],\"contour\":[{\"type\":\"contour\",\"colorbar\":{\"outlinewidth\":0,\"ticks\":\"\"},\"colorscale\":[[0.0,\"#0d0887\"],[0.1111111111111111,\"#46039f\"],[0.2222222222222222,\"#7201a8\"],[0.3333333333333333,\"#9c179e\"],[0.4444444444444444,\"#bd3786\"],[0.5555555555555556,\"#d8576b\"],[0.6666666666666666,\"#ed7953\"],[0.7777777777777778,\"#fb9f3a\"],[0.8888888888888888,\"#fdca26\"],[1.0,\"#f0f921\"]]}],\"surface\":[{\"type\":\"surface\",\"colorbar\":{\"outlinewidth\":0,\"ticks\":\"\"},\"colorscale\":[[0.0,\"#0d0887\"],[0.1111111111111111,\"#46039f\"],[0.2222222222222222,\"#7201a8\"],[0.3333333333333333,\"#9c179e\"],[0.4444444444444444,\"#bd3786\"],[0.5555555555555556,\"#d8576b\"],[0.6666666666666666,\"#ed7953\"],[0.7777777777777778,\"#fb9f3a\"],[0.8888888888888888,\"#fdca26\"],[1.0,\"#f0f921\"]]}],\"mesh3d\":[{\"type\":\"mesh3d\",\"colorbar\":{\"outlinewidth\":0,\"ticks\":\"\"}}],\"scatter\":[{\"fillpattern\":{\"fillmode\":\"overlay\",\"size\":10,\"solidity\":0.2},\"type\":\"scatter\"}],\"parcoords\":[{\"type\":\"parcoords\",\"line\":{\"colorbar\":{\"outlinewidth\":0,\"ticks\":\"\"}}}],\"scatterpolargl\":[{\"type\":\"scatterpolargl\",\"marker\":{\"colorbar\":{\"outlinewidth\":0,\"ticks\":\"\"}}}],\"bar\":[{\"error_x\":{\"color\":\"#2a3f5f\"},\"error_y\":{\"color\":\"#2a3f5f\"},\"marker\":{\"line\":{\"color\":\"#E5ECF6\",\"width\":0.5},\"pattern\":{\"fillmode\":\"overlay\",\"size\":10,\"solidity\":0.2}},\"type\":\"bar\"}],\"scattergeo\":[{\"type\":\"scattergeo\",\"marker\":{\"colorbar\":{\"outlinewidth\":0,\"ticks\":\"\"}}}],\"scatterpolar\":[{\"type\":\"scatterpolar\",\"marker\":{\"colorbar\":{\"outlinewidth\":0,\"ticks\":\"\"}}}],\"histogram\":[{\"marker\":{\"pattern\":{\"fillmode\":\"overlay\",\"size\":10,\"solidity\":0.2}},\"type\":\"histogram\"}],\"scattergl\":[{\"type\":\"scattergl\",\"marker\":{\"colorbar\":{\"outlinewidth\":0,\"ticks\":\"\"}}}],\"scatter3d\":[{\"type\":\"scatter3d\",\"line\":{\"colorbar\":{\"outlinewidth\":0,\"ticks\":\"\"}},\"marker\":{\"colorbar\":{\"outlinewidth\":0,\"ticks\":\"\"}}}],\"scattermapbox\":[{\"type\":\"scattermapbox\",\"marker\":{\"colorbar\":{\"outlinewidth\":0,\"ticks\":\"\"}}}],\"scatterternary\":[{\"type\":\"scatterternary\",\"marker\":{\"colorbar\":{\"outlinewidth\":0,\"ticks\":\"\"}}}],\"scattercarpet\":[{\"type\":\"scattercarpet\",\"marker\":{\"colorbar\":{\"outlinewidth\":0,\"ticks\":\"\"}}}],\"carpet\":[{\"aaxis\":{\"endlinecolor\":\"#2a3f5f\",\"gridcolor\":\"white\",\"linecolor\":\"white\",\"minorgridcolor\":\"white\",\"startlinecolor\":\"#2a3f5f\"},\"baxis\":{\"endlinecolor\":\"#2a3f5f\",\"gridcolor\":\"white\",\"linecolor\":\"white\",\"minorgridcolor\":\"white\",\"startlinecolor\":\"#2a3f5f\"},\"type\":\"carpet\"}],\"table\":[{\"cells\":{\"fill\":{\"color\":\"#EBF0F8\"},\"line\":{\"color\":\"white\"}},\"header\":{\"fill\":{\"color\":\"#C8D4E3\"},\"line\":{\"color\":\"white\"}},\"type\":\"table\"}],\"barpolar\":[{\"marker\":{\"line\":{\"color\":\"#E5ECF6\",\"width\":0.5},\"pattern\":{\"fillmode\":\"overlay\",\"size\":10,\"solidity\":0.2}},\"type\":\"barpolar\"}],\"pie\":[{\"automargin\":true,\"type\":\"pie\"}]},\"layout\":{\"autotypenumbers\":\"strict\",\"colorway\":[\"#636efa\",\"#EF553B\",\"#00cc96\",\"#ab63fa\",\"#FFA15A\",\"#19d3f3\",\"#FF6692\",\"#B6E880\",\"#FF97FF\",\"#FECB52\"],\"font\":{\"color\":\"#2a3f5f\"},\"hovermode\":\"closest\",\"hoverlabel\":{\"align\":\"left\"},\"paper_bgcolor\":\"white\",\"plot_bgcolor\":\"#E5ECF6\",\"polar\":{\"bgcolor\":\"#E5ECF6\",\"angularaxis\":{\"gridcolor\":\"white\",\"linecolor\":\"white\",\"ticks\":\"\"},\"radialaxis\":{\"gridcolor\":\"white\",\"linecolor\":\"white\",\"ticks\":\"\"}},\"ternary\":{\"bgcolor\":\"#E5ECF6\",\"aaxis\":{\"gridcolor\":\"white\",\"linecolor\":\"white\",\"ticks\":\"\"},\"baxis\":{\"gridcolor\":\"white\",\"linecolor\":\"white\",\"ticks\":\"\"},\"caxis\":{\"gridcolor\":\"white\",\"linecolor\":\"white\",\"ticks\":\"\"}},\"coloraxis\":{\"colorbar\":{\"outlinewidth\":0,\"ticks\":\"\"}},\"colorscale\":{\"sequential\":[[0.0,\"#0d0887\"],[0.1111111111111111,\"#46039f\"],[0.2222222222222222,\"#7201a8\"],[0.3333333333333333,\"#9c179e\"],[0.4444444444444444,\"#bd3786\"],[0.5555555555555556,\"#d8576b\"],[0.6666666666666666,\"#ed7953\"],[0.7777777777777778,\"#fb9f3a\"],[0.8888888888888888,\"#fdca26\"],[1.0,\"#f0f921\"]],\"sequentialminus\":[[0.0,\"#0d0887\"],[0.1111111111111111,\"#46039f\"],[0.2222222222222222,\"#7201a8\"],[0.3333333333333333,\"#9c179e\"],[0.4444444444444444,\"#bd3786\"],[0.5555555555555556,\"#d8576b\"],[0.6666666666666666,\"#ed7953\"],[0.7777777777777778,\"#fb9f3a\"],[0.8888888888888888,\"#fdca26\"],[1.0,\"#f0f921\"]],\"diverging\":[[0,\"#8e0152\"],[0.1,\"#c51b7d\"],[0.2,\"#de77ae\"],[0.3,\"#f1b6da\"],[0.4,\"#fde0ef\"],[0.5,\"#f7f7f7\"],[0.6,\"#e6f5d0\"],[0.7,\"#b8e186\"],[0.8,\"#7fbc41\"],[0.9,\"#4d9221\"],[1,\"#276419\"]]},\"xaxis\":{\"gridcolor\":\"white\",\"linecolor\":\"white\",\"ticks\":\"\",\"title\":{\"standoff\":15},\"zerolinecolor\":\"white\",\"automargin\":true,\"zerolinewidth\":2},\"yaxis\":{\"gridcolor\":\"white\",\"linecolor\":\"white\",\"ticks\":\"\",\"title\":{\"standoff\":15},\"zerolinecolor\":\"white\",\"automargin\":true,\"zerolinewidth\":2},\"scene\":{\"xaxis\":{\"backgroundcolor\":\"#E5ECF6\",\"gridcolor\":\"white\",\"linecolor\":\"white\",\"showbackground\":true,\"ticks\":\"\",\"zerolinecolor\":\"white\",\"gridwidth\":2},\"yaxis\":{\"backgroundcolor\":\"#E5ECF6\",\"gridcolor\":\"white\",\"linecolor\":\"white\",\"showbackground\":true,\"ticks\":\"\",\"zerolinecolor\":\"white\",\"gridwidth\":2},\"zaxis\":{\"backgroundcolor\":\"#E5ECF6\",\"gridcolor\":\"white\",\"linecolor\":\"white\",\"showbackground\":true,\"ticks\":\"\",\"zerolinecolor\":\"white\",\"gridwidth\":2}},\"shapedefaults\":{\"line\":{\"color\":\"#2a3f5f\"}},\"annotationdefaults\":{\"arrowcolor\":\"#2a3f5f\",\"arrowhead\":0,\"arrowwidth\":1},\"geo\":{\"bgcolor\":\"white\",\"landcolor\":\"#E5ECF6\",\"subunitcolor\":\"white\",\"showland\":true,\"showlakes\":true,\"lakecolor\":\"white\"},\"title\":{\"x\":0.05},\"mapbox\":{\"style\":\"light\"}}},\"xaxis\":{\"anchor\":\"y\",\"domain\":[0.0,1.0],\"title\":{\"text\":\"x\"}},\"yaxis\":{\"anchor\":\"x\",\"domain\":[0.0,1.0],\"title\":{\"text\":\"index\"}},\"legend\":{\"tracegroupgap\":0},\"margin\":{\"t\":60}},                        {\"responsive\": true}                    ).then(function(){\n",
       "                            \n",
       "var gd = document.getElementById('6d30feea-5fc4-4393-b472-d185b06dad53');\n",
       "var x = new MutationObserver(function (mutations, observer) {{\n",
       "        var display = window.getComputedStyle(gd).display;\n",
       "        if (!display || display === 'none') {{\n",
       "            console.log([gd, 'removed!']);\n",
       "            Plotly.purge(gd);\n",
       "            observer.disconnect();\n",
       "        }}\n",
       "}});\n",
       "\n",
       "// Listen for the removal of the full notebook cells\n",
       "var notebookContainer = gd.closest('#notebook-container');\n",
       "if (notebookContainer) {{\n",
       "    x.observe(notebookContainer, {childList: true});\n",
       "}}\n",
       "\n",
       "// Listen for the clearing of the current output cell\n",
       "var outputEl = gd.closest('.output');\n",
       "if (outputEl) {{\n",
       "    x.observe(outputEl, {childList: true});\n",
       "}}\n",
       "\n",
       "                        })                };                });            </script>        </div>"
      ]
     },
     "metadata": {},
     "output_type": "display_data"
    }
   ],
   "source": [
    "# Create a scatter plot\n",
    "df_np = np.array(df[[\"sepal_width\",\"sepal_length\"]])\n",
    "fig = px.scatter(df_np[:,0],df_np[:,1])\n",
    "\n",
    "# Show the plot\n",
    "fig.show()"
   ]
  },
  {
   "cell_type": "code",
   "execution_count": 16,
   "metadata": {},
   "outputs": [
    {
     "name": "stdout",
     "output_type": "stream",
     "text": [
      "Original data:\n",
      "tensor([[ 0,  1,  2],\n",
      "        [ 3,  4,  5],\n",
      "        [ 6,  7,  8],\n",
      "        [ 9, 10, 11]])\n",
      "\n",
      "New shape: torch.Size([4, 9])\n",
      "Repeated data:\n",
      "tensor([[ 0,  0,  0,  1,  1,  1,  2,  2,  2],\n",
      "        [ 3,  3,  3,  4,  4,  4,  5,  5,  5],\n",
      "        [ 6,  6,  6,  7,  7,  7,  8,  8,  8],\n",
      "        [ 9,  9,  9, 10, 10, 10, 11, 11, 11]])\n"
     ]
    }
   ],
   "source": [
    "import torch\n",
    "\n",
    "# Create a sample tensor with shape (4, 22)\n",
    "data = torch.arange(12).view(4, 3)\n",
    "\n",
    "# Check your original data\n",
    "print(\"Original data:\")\n",
    "print(data)\n",
    "\n",
    "# Use repeat_interleave to repeat each element in the array 3 times along the specified dimension\n",
    "repeated_data = data.repeat_interleave(3, dim=1)\n",
    "\n",
    "# Check the shape and contents of the new tensor\n",
    "print(\"\\nNew shape:\", repeated_data.shape)\n",
    "print(\"Repeated data:\")\n",
    "print(repeated_data)"
   ]
  },
  {
   "cell_type": "code",
   "execution_count": 21,
   "metadata": {},
   "outputs": [
    {
     "name": "stdout",
     "output_type": "stream",
     "text": [
      "tensor([[ 0.3484,  0.0988, -0.3650,  0.0899],\n",
      "        [-0.3191, -0.1855,  0.1353,  0.2979],\n",
      "        [ 0.0826,  0.0132, -0.4637,  0.4103]])\n",
      "tensor(2.8098)\n"
     ]
    }
   ],
   "source": [
    "data_rand = torch.rand((3,4))-0.5\n",
    "print(data_rand)\n",
    "print(torch.norm(data_rand.to(torch.float32),p=1))"
   ]
  },
  {
   "cell_type": "code",
   "execution_count": 59,
   "metadata": {},
   "outputs": [],
   "source": [
    "from math import pi, log\n",
    "\n",
    "import torch\n",
    "from torch import nn, einsum\n",
    "\n",
    "from einops import rearrange, repeat\n",
    "\n",
    "# helper functions\n",
    "\n",
    "def exists(val):\n",
    "    return val is not None\n",
    "\n",
    "def default(val, d):\n",
    "    return val if exists(val) else d\n",
    "\n",
    "def broadcat(tensors, dim = -1):\n",
    "    num_tensors = len(tensors)\n",
    "    shape_lens = set(list(map(lambda t: len(t.shape), tensors)))\n",
    "    assert len(shape_lens) == 1, 'tensors must all have the same number of dimensions'\n",
    "    shape_len = list(shape_lens)[0]\n",
    "\n",
    "    dim = (dim + shape_len) if dim < 0 else dim\n",
    "    dims = list(zip(*map(lambda t: list(t.shape), tensors)))\n",
    "\n",
    "    expandable_dims = [(i, val) for i, val in enumerate(dims) if i != dim]\n",
    "    assert all([*map(lambda t: len(set(t[1])) <= 2, expandable_dims)]), 'invalid dimensions for broadcastable concatentation'\n",
    "    max_dims = list(map(lambda t: (t[0], max(t[1])), expandable_dims))\n",
    "    expanded_dims = list(map(lambda t: (t[0], (t[1],) * num_tensors), max_dims))\n",
    "    expanded_dims.insert(dim, (dim, dims[dim]))\n",
    "    expandable_shapes = list(zip(*map(lambda t: t[1], expanded_dims)))\n",
    "    tensors = list(map(lambda t: t[0].expand(*t[1]), zip(tensors, expandable_shapes)))\n",
    "    return torch.cat(tensors, dim = dim)\n",
    "\n",
    "# rotary embedding helper functions\n",
    "\n",
    "def rotate_half(x):\n",
    "    x = rearrange(x, '... (d r) -> ... d r', r = 2)\n",
    "    x1, x2 = x.unbind(dim = -1)\n",
    "    x = torch.stack((-x2, x1), dim = -1)\n",
    "    return rearrange(x, '... d r -> ... (d r)')\n",
    "\n",
    "def apply_rotary_emb(freqs, t, start_index = 0, scale = 1., seq_dim = -2):\n",
    "    rot_dim, seq_len = freqs.shape[-1], t.shape[seq_dim]\n",
    "    freqs = freqs[-seq_len:].to(t)\n",
    "\n",
    "    end_index = start_index + rot_dim\n",
    "    assert rot_dim <= t.shape[-1], f'feature dimension {t.shape[-1]} is not of sufficient size to rotate in all the positions {rot_dim}'\n",
    "    t_left, t, t_right = t[..., :start_index], t[..., start_index:end_index], t[..., end_index:]\n",
    "    t = (t * freqs.cos() * scale) + (rotate_half(t) * freqs.sin() * scale)\n",
    "    return torch.cat((t_left, t, t_right), dim = -1)\n",
    "\n",
    "# learned rotation helpers\n",
    "\n",
    "def apply_learned_rotations(rotations, t, start_index = 0, freq_ranges = None):\n",
    "    if exists(freq_ranges):\n",
    "        rotations = einsum('..., f -> ... f', rotations, freq_ranges)\n",
    "        rotations = rearrange(rotations, '... r f -> ... (r f)')\n",
    "\n",
    "    rotations = repeat(rotations, '... n -> ... (n r)', r = 2)\n",
    "    return apply_rotary_emb(rotations, t, start_index = start_index)\n",
    "\n",
    "# classes\n",
    "\n",
    "class RotaryEmbedding(nn.Module):\n",
    "    def __init__(\n",
    "        self,\n",
    "        dim,\n",
    "        custom_freqs = None,\n",
    "        freqs_for = 'lang',\n",
    "        theta = 10000,\n",
    "        max_freq = 10,\n",
    "        num_freqs = 1,\n",
    "        learned_freq = False,\n",
    "        use_xpos = False,\n",
    "        xpos_scale_base = 512,\n",
    "        interpolate_factor = 1.,\n",
    "        theta_rescale_factor = 1.,\n",
    "        seq_before_head_dim = False\n",
    "    ):\n",
    "        super().__init__()\n",
    "        # proposed by reddit user bloc97, to rescale rotary embeddings to longer sequence length without fine-tuning\n",
    "        # has some connection to NTK literature\n",
    "        # https://www.reddit.com/r/LocalLLaMA/comments/14lz7j5/ntkaware_scaled_rope_allows_llama_models_to_have/\n",
    "\n",
    "        theta *= theta_rescale_factor ** (dim / (dim - 2))\n",
    "\n",
    "        if exists(custom_freqs):\n",
    "            freqs = custom_freqs\n",
    "        elif freqs_for == 'lang':\n",
    "            freqs = 1. / (theta ** (torch.arange(0, dim, 2)[:(dim // 2)].float() / dim))\n",
    "        elif freqs_for == 'pixel':\n",
    "            freqs = torch.linspace(1., max_freq / 2, dim // 2) * pi\n",
    "        elif freqs_for == 'constant':\n",
    "            freqs = torch.ones(num_freqs).float()\n",
    "        else:\n",
    "            raise ValueError(f'unknown modality {freqs_for}')\n",
    "\n",
    "        self.cache = dict()\n",
    "        self.cache_scale = dict()\n",
    "        self.freqs = nn.Parameter(freqs, requires_grad = learned_freq)\n",
    "\n",
    "        # default sequence dimension\n",
    "\n",
    "        self.seq_before_head_dim = seq_before_head_dim\n",
    "        self.default_seq_dim = -3 if seq_before_head_dim else -2\n",
    "\n",
    "        # interpolation factors\n",
    "\n",
    "        assert interpolate_factor >= 1.\n",
    "        self.interpolate_factor = interpolate_factor\n",
    "\n",
    "        # xpos\n",
    "\n",
    "        self.use_xpos = use_xpos\n",
    "        if not use_xpos:\n",
    "            self.register_buffer('scale', None)\n",
    "            return\n",
    "\n",
    "        scale = (torch.arange(0, dim, 2) + 0.4 * dim) / (1.4 * dim)\n",
    "        self.scale_base = xpos_scale_base\n",
    "        self.register_buffer('scale', scale)\n",
    "\n",
    "    def get_seq_pos(self, seq_len, device, dtype, offset = 0):\n",
    "        return (torch.arange(seq_len, device = device, dtype = dtype) + offset) / self.interpolate_factor\n",
    "\n",
    "    def rotate_queries_or_keys(self, t, seq_dim = None, offset = 0, freq_seq_len = None):\n",
    "        seq_dim = default(seq_dim, self.default_seq_dim)\n",
    "\n",
    "        assert not self.use_xpos, 'you must use `.rotate_queries_and_keys` method instead and pass in both queries and keys, for length extrapolatable rotary embeddings'\n",
    "\n",
    "        device, dtype, seq_len = t.device, t.dtype, t.shape[seq_dim]\n",
    "\n",
    "        if exists(freq_seq_len):\n",
    "            assert freq_seq_len >= seq_len\n",
    "            seq_len = freq_seq_len\n",
    "\n",
    "        freqs = self.forward(lambda: self.get_seq_pos(seq_len, device = device, dtype = dtype, offset = offset), cache_key = f'freqs:{seq_len}|offset:{offset}')\n",
    "\n",
    "        if seq_dim == -3:\n",
    "            freqs = rearrange(freqs, 'n d -> n 1 d')\n",
    "        print(freqs[2])\n",
    "        return apply_rotary_emb(freqs, t, seq_dim = seq_dim)\n",
    "\n",
    "    def rotate_queries_with_cached_keys(self, q, k, seq_dim = None, offset = 0):\n",
    "        seq_dim = default(seq_dim, self.default_seq_dim)\n",
    "\n",
    "        q_len, k_len = q.shape[seq_dim], k.shape[seq_dim]\n",
    "        assert q_len <= k_len\n",
    "        rotated_q = self.rotate_queries_or_keys(q, seq_dim = seq_dim, freq_seq_len = k_len)\n",
    "        rotated_k = self.rotate_queries_or_keys(k, seq_dim = seq_dim)\n",
    "\n",
    "        rotated_q = rotated_q.type(q.dtype)\n",
    "        rotated_k = rotated_k.type(k.dtype)\n",
    "\n",
    "        return rotated_q, rotated_k\n",
    "\n",
    "    def rotate_queries_and_keys(self, q, k, seq_dim = None):\n",
    "        seq_dim = default(seq_dim, self.default_seq_dim)\n",
    "\n",
    "        assert self.use_xpos\n",
    "        device, dtype, seq_len = q.device, q.dtype, q.shape[seq_dim]\n",
    "\n",
    "        seq = self.get_seq_pos(seq_len, dtype = dtype, device = device)\n",
    "        freqs = self.forward(lambda: seq, cache_key = f'freqs:{seq_len}')\n",
    "        scale = self.get_scale(lambda: seq, cache_key = f'scale:{seq_len}').to(dtype)\n",
    "\n",
    "        if seq_dim == -3:\n",
    "            freqs = rearrange(freqs, 'n d -> n 1 d')\n",
    "            scale = rearrange(scale, 'n d -> n 1 d')\n",
    "\n",
    "        rotated_q = apply_rotary_emb(freqs, q, scale = scale, seq_dim = seq_dim)\n",
    "        rotated_k = apply_rotary_emb(freqs, k, scale = scale ** -1, seq_dim = seq_dim)\n",
    "\n",
    "        rotated_q = rotated_q.type(q.dtype)\n",
    "        rotated_k = rotated_k.type(k.dtype)\n",
    "\n",
    "        return rotated_q, rotated_k\n",
    "\n",
    "    def get_scale(self, t, cache_key = None):\n",
    "        assert self.use_xpos\n",
    "\n",
    "        if exists(cache_key) and cache_key in self.cache:\n",
    "            return self.cache[cache_key]\n",
    "\n",
    "        if callable(t):\n",
    "            t = t()\n",
    "\n",
    "        scale = 1.\n",
    "        if self.use_xpos:\n",
    "            power = (t - len(t) // 2) / self.scale_base\n",
    "            scale = self.scale ** rearrange(power, 'n -> n 1')\n",
    "            scale = torch.cat((scale, scale), dim = -1)\n",
    "\n",
    "        if exists(cache_key):\n",
    "            self.cache[cache_key] = scale\n",
    "\n",
    "        return scale\n",
    "\n",
    "    def forward(self, t, cache_key = None):\n",
    "        if exists(cache_key) and cache_key in self.cache:\n",
    "            return self.cache[cache_key]\n",
    "\n",
    "        if callable(t):\n",
    "            t = t()\n",
    "\n",
    "        freqs = self.freqs\n",
    "\n",
    "        freqs = einsum('..., f -> ... f', t.type(freqs.dtype), freqs)\n",
    "        freqs = repeat(freqs, '... n -> ... (n r)', r = 2)\n",
    "\n",
    "        if exists(cache_key):\n",
    "            self.cache[cache_key] = freqs\n",
    "\n",
    "        return freqs"
   ]
  },
  {
   "cell_type": "code",
   "execution_count": 60,
   "metadata": {},
   "outputs": [
    {
     "name": "stdout",
     "output_type": "stream",
     "text": [
      "tensor([2.0000e+00, 2.0000e+00, 1.1247e+00, 1.1247e+00, 6.3246e-01, 6.3246e-01,\n",
      "        3.5566e-01, 3.5566e-01, 2.0000e-01, 2.0000e-01, 1.1247e-01, 1.1247e-01,\n",
      "        6.3246e-02, 6.3246e-02, 3.5566e-02, 3.5566e-02, 2.0000e-02, 2.0000e-02,\n",
      "        1.1247e-02, 1.1247e-02, 6.3246e-03, 6.3246e-03, 3.5566e-03, 3.5566e-03,\n",
      "        2.0000e-03, 2.0000e-03, 1.1247e-03, 1.1247e-03, 6.3246e-04, 6.3246e-04,\n",
      "        3.5566e-04, 3.5566e-04])\n",
      "tensor([2.0000e+00, 2.0000e+00, 1.1247e+00, 1.1247e+00, 6.3246e-01, 6.3246e-01,\n",
      "        3.5566e-01, 3.5566e-01, 2.0000e-01, 2.0000e-01, 1.1247e-01, 1.1247e-01,\n",
      "        6.3246e-02, 6.3246e-02, 3.5566e-02, 3.5566e-02, 2.0000e-02, 2.0000e-02,\n",
      "        1.1247e-02, 1.1247e-02, 6.3246e-03, 6.3246e-03, 3.5566e-03, 3.5566e-03,\n",
      "        2.0000e-03, 2.0000e-03, 1.1247e-03, 1.1247e-03, 6.3246e-04, 6.3246e-04,\n",
      "        3.5566e-04, 3.5566e-04])\n",
      "torch.Size([1, 8, 1024, 64])\n"
     ]
    }
   ],
   "source": [
    "rotary_emb = RotaryEmbedding(dim = 32)\n",
    "\n",
    "# mock queries and keys - dimensions should end with (seq_len, feature dimension), and any number of preceding dimensions (batch, heads, etc)\n",
    "\n",
    "q_ori = torch.randn(1, 8, 1024, 64) # queries - (batch, heads, seq len, dimension of head)\n",
    "k_ori = torch.randn(1, 8, 1024, 64) # keys\n",
    "\n",
    "# apply the rotations to your queries and keys after the heads have been split out, but prior to the dot product and subsequent softmax (attention)\n",
    "\n",
    "q = rotary_emb.rotate_queries_or_keys(q)\n",
    "k = rotary_emb.rotate_queries_or_keys(k)\n",
    "\n",
    "print(q.shape)"
   ]
  },
  {
   "cell_type": "code",
   "execution_count": 61,
   "metadata": {},
   "outputs": [
    {
     "data": {
      "application/javascript": [
       "/* Put everything inside the global mpl namespace */\n",
       "window.mpl = {};\n",
       "\n",
       "\n",
       "mpl.get_websocket_type = function() {\n",
       "    if (typeof(WebSocket) !== 'undefined') {\n",
       "        return WebSocket;\n",
       "    } else if (typeof(MozWebSocket) !== 'undefined') {\n",
       "        return MozWebSocket;\n",
       "    } else {\n",
       "        alert('Your browser does not have WebSocket support. ' +\n",
       "              'Please try Chrome, Safari or Firefox ≥ 6. ' +\n",
       "              'Firefox 4 and 5 are also supported but you ' +\n",
       "              'have to enable WebSockets in about:config.');\n",
       "    };\n",
       "}\n",
       "\n",
       "mpl.figure = function(figure_id, websocket, ondownload, parent_element) {\n",
       "    this.id = figure_id;\n",
       "\n",
       "    this.ws = websocket;\n",
       "\n",
       "    this.supports_binary = (this.ws.binaryType != undefined);\n",
       "\n",
       "    if (!this.supports_binary) {\n",
       "        var warnings = document.getElementById(\"mpl-warnings\");\n",
       "        if (warnings) {\n",
       "            warnings.style.display = 'block';\n",
       "            warnings.textContent = (\n",
       "                \"This browser does not support binary websocket messages. \" +\n",
       "                    \"Performance may be slow.\");\n",
       "        }\n",
       "    }\n",
       "\n",
       "    this.imageObj = new Image();\n",
       "\n",
       "    this.context = undefined;\n",
       "    this.message = undefined;\n",
       "    this.canvas = undefined;\n",
       "    this.rubberband_canvas = undefined;\n",
       "    this.rubberband_context = undefined;\n",
       "    this.format_dropdown = undefined;\n",
       "\n",
       "    this.image_mode = 'full';\n",
       "\n",
       "    this.root = $('<div/>');\n",
       "    this._root_extra_style(this.root)\n",
       "    this.root.attr('style', 'display: inline-block');\n",
       "\n",
       "    $(parent_element).append(this.root);\n",
       "\n",
       "    this._init_header(this);\n",
       "    this._init_canvas(this);\n",
       "    this._init_toolbar(this);\n",
       "\n",
       "    var fig = this;\n",
       "\n",
       "    this.waiting = false;\n",
       "\n",
       "    this.ws.onopen =  function () {\n",
       "            fig.send_message(\"supports_binary\", {value: fig.supports_binary});\n",
       "            fig.send_message(\"send_image_mode\", {});\n",
       "            if (mpl.ratio != 1) {\n",
       "                fig.send_message(\"set_dpi_ratio\", {'dpi_ratio': mpl.ratio});\n",
       "            }\n",
       "            fig.send_message(\"refresh\", {});\n",
       "        }\n",
       "\n",
       "    this.imageObj.onload = function() {\n",
       "            if (fig.image_mode == 'full') {\n",
       "                // Full images could contain transparency (where diff images\n",
       "                // almost always do), so we need to clear the canvas so that\n",
       "                // there is no ghosting.\n",
       "                fig.context.clearRect(0, 0, fig.canvas.width, fig.canvas.height);\n",
       "            }\n",
       "            fig.context.drawImage(fig.imageObj, 0, 0);\n",
       "        };\n",
       "\n",
       "    this.imageObj.onunload = function() {\n",
       "        fig.ws.close();\n",
       "    }\n",
       "\n",
       "    this.ws.onmessage = this._make_on_message_function(this);\n",
       "\n",
       "    this.ondownload = ondownload;\n",
       "}\n",
       "\n",
       "mpl.figure.prototype._init_header = function() {\n",
       "    var titlebar = $(\n",
       "        '<div class=\"ui-dialog-titlebar ui-widget-header ui-corner-all ' +\n",
       "        'ui-helper-clearfix\"/>');\n",
       "    var titletext = $(\n",
       "        '<div class=\"ui-dialog-title\" style=\"width: 100%; ' +\n",
       "        'text-align: center; padding: 3px;\"/>');\n",
       "    titlebar.append(titletext)\n",
       "    this.root.append(titlebar);\n",
       "    this.header = titletext[0];\n",
       "}\n",
       "\n",
       "\n",
       "\n",
       "mpl.figure.prototype._canvas_extra_style = function(canvas_div) {\n",
       "\n",
       "}\n",
       "\n",
       "\n",
       "mpl.figure.prototype._root_extra_style = function(canvas_div) {\n",
       "\n",
       "}\n",
       "\n",
       "mpl.figure.prototype._init_canvas = function() {\n",
       "    var fig = this;\n",
       "\n",
       "    var canvas_div = $('<div/>');\n",
       "\n",
       "    canvas_div.attr('style', 'position: relative; clear: both; outline: 0');\n",
       "\n",
       "    function canvas_keyboard_event(event) {\n",
       "        return fig.key_event(event, event['data']);\n",
       "    }\n",
       "\n",
       "    canvas_div.keydown('key_press', canvas_keyboard_event);\n",
       "    canvas_div.keyup('key_release', canvas_keyboard_event);\n",
       "    this.canvas_div = canvas_div\n",
       "    this._canvas_extra_style(canvas_div)\n",
       "    this.root.append(canvas_div);\n",
       "\n",
       "    var canvas = $('<canvas/>');\n",
       "    canvas.addClass('mpl-canvas');\n",
       "    canvas.attr('style', \"left: 0; top: 0; z-index: 0; outline: 0\")\n",
       "\n",
       "    this.canvas = canvas[0];\n",
       "    this.context = canvas[0].getContext(\"2d\");\n",
       "\n",
       "    var backingStore = this.context.backingStorePixelRatio ||\n",
       "\tthis.context.webkitBackingStorePixelRatio ||\n",
       "\tthis.context.mozBackingStorePixelRatio ||\n",
       "\tthis.context.msBackingStorePixelRatio ||\n",
       "\tthis.context.oBackingStorePixelRatio ||\n",
       "\tthis.context.backingStorePixelRatio || 1;\n",
       "\n",
       "    mpl.ratio = (window.devicePixelRatio || 1) / backingStore;\n",
       "\n",
       "    var rubberband = $('<canvas/>');\n",
       "    rubberband.attr('style', \"position: absolute; left: 0; top: 0; z-index: 1;\")\n",
       "\n",
       "    var pass_mouse_events = true;\n",
       "\n",
       "    canvas_div.resizable({\n",
       "        start: function(event, ui) {\n",
       "            pass_mouse_events = false;\n",
       "        },\n",
       "        resize: function(event, ui) {\n",
       "            fig.request_resize(ui.size.width, ui.size.height);\n",
       "        },\n",
       "        stop: function(event, ui) {\n",
       "            pass_mouse_events = true;\n",
       "            fig.request_resize(ui.size.width, ui.size.height);\n",
       "        },\n",
       "    });\n",
       "\n",
       "    function mouse_event_fn(event) {\n",
       "        if (pass_mouse_events)\n",
       "            return fig.mouse_event(event, event['data']);\n",
       "    }\n",
       "\n",
       "    rubberband.mousedown('button_press', mouse_event_fn);\n",
       "    rubberband.mouseup('button_release', mouse_event_fn);\n",
       "    // Throttle sequential mouse events to 1 every 20ms.\n",
       "    rubberband.mousemove('motion_notify', mouse_event_fn);\n",
       "\n",
       "    rubberband.mouseenter('figure_enter', mouse_event_fn);\n",
       "    rubberband.mouseleave('figure_leave', mouse_event_fn);\n",
       "\n",
       "    canvas_div.on(\"wheel\", function (event) {\n",
       "        event = event.originalEvent;\n",
       "        event['data'] = 'scroll'\n",
       "        if (event.deltaY < 0) {\n",
       "            event.step = 1;\n",
       "        } else {\n",
       "            event.step = -1;\n",
       "        }\n",
       "        mouse_event_fn(event);\n",
       "    });\n",
       "\n",
       "    canvas_div.append(canvas);\n",
       "    canvas_div.append(rubberband);\n",
       "\n",
       "    this.rubberband = rubberband;\n",
       "    this.rubberband_canvas = rubberband[0];\n",
       "    this.rubberband_context = rubberband[0].getContext(\"2d\");\n",
       "    this.rubberband_context.strokeStyle = \"#000000\";\n",
       "\n",
       "    this._resize_canvas = function(width, height) {\n",
       "        // Keep the size of the canvas, canvas container, and rubber band\n",
       "        // canvas in synch.\n",
       "        canvas_div.css('width', width)\n",
       "        canvas_div.css('height', height)\n",
       "\n",
       "        canvas.attr('width', width * mpl.ratio);\n",
       "        canvas.attr('height', height * mpl.ratio);\n",
       "        canvas.attr('style', 'width: ' + width + 'px; height: ' + height + 'px;');\n",
       "\n",
       "        rubberband.attr('width', width);\n",
       "        rubberband.attr('height', height);\n",
       "    }\n",
       "\n",
       "    // Set the figure to an initial 600x600px, this will subsequently be updated\n",
       "    // upon first draw.\n",
       "    this._resize_canvas(600, 600);\n",
       "\n",
       "    // Disable right mouse context menu.\n",
       "    $(this.rubberband_canvas).bind(\"contextmenu\",function(e){\n",
       "        return false;\n",
       "    });\n",
       "\n",
       "    function set_focus () {\n",
       "        canvas.focus();\n",
       "        canvas_div.focus();\n",
       "    }\n",
       "\n",
       "    window.setTimeout(set_focus, 100);\n",
       "}\n",
       "\n",
       "mpl.figure.prototype._init_toolbar = function() {\n",
       "    var fig = this;\n",
       "\n",
       "    var nav_element = $('<div/>');\n",
       "    nav_element.attr('style', 'width: 100%');\n",
       "    this.root.append(nav_element);\n",
       "\n",
       "    // Define a callback function for later on.\n",
       "    function toolbar_event(event) {\n",
       "        return fig.toolbar_button_onclick(event['data']);\n",
       "    }\n",
       "    function toolbar_mouse_event(event) {\n",
       "        return fig.toolbar_button_onmouseover(event['data']);\n",
       "    }\n",
       "\n",
       "    for(var toolbar_ind in mpl.toolbar_items) {\n",
       "        var name = mpl.toolbar_items[toolbar_ind][0];\n",
       "        var tooltip = mpl.toolbar_items[toolbar_ind][1];\n",
       "        var image = mpl.toolbar_items[toolbar_ind][2];\n",
       "        var method_name = mpl.toolbar_items[toolbar_ind][3];\n",
       "\n",
       "        if (!name) {\n",
       "            // put a spacer in here.\n",
       "            continue;\n",
       "        }\n",
       "        var button = $('<button/>');\n",
       "        button.addClass('ui-button ui-widget ui-state-default ui-corner-all ' +\n",
       "                        'ui-button-icon-only');\n",
       "        button.attr('role', 'button');\n",
       "        button.attr('aria-disabled', 'false');\n",
       "        button.click(method_name, toolbar_event);\n",
       "        button.mouseover(tooltip, toolbar_mouse_event);\n",
       "\n",
       "        var icon_img = $('<span/>');\n",
       "        icon_img.addClass('ui-button-icon-primary ui-icon');\n",
       "        icon_img.addClass(image);\n",
       "        icon_img.addClass('ui-corner-all');\n",
       "\n",
       "        var tooltip_span = $('<span/>');\n",
       "        tooltip_span.addClass('ui-button-text');\n",
       "        tooltip_span.html(tooltip);\n",
       "\n",
       "        button.append(icon_img);\n",
       "        button.append(tooltip_span);\n",
       "\n",
       "        nav_element.append(button);\n",
       "    }\n",
       "\n",
       "    var fmt_picker_span = $('<span/>');\n",
       "\n",
       "    var fmt_picker = $('<select/>');\n",
       "    fmt_picker.addClass('mpl-toolbar-option ui-widget ui-widget-content');\n",
       "    fmt_picker_span.append(fmt_picker);\n",
       "    nav_element.append(fmt_picker_span);\n",
       "    this.format_dropdown = fmt_picker[0];\n",
       "\n",
       "    for (var ind in mpl.extensions) {\n",
       "        var fmt = mpl.extensions[ind];\n",
       "        var option = $(\n",
       "            '<option/>', {selected: fmt === mpl.default_extension}).html(fmt);\n",
       "        fmt_picker.append(option);\n",
       "    }\n",
       "\n",
       "    // Add hover states to the ui-buttons\n",
       "    $( \".ui-button\" ).hover(\n",
       "        function() { $(this).addClass(\"ui-state-hover\");},\n",
       "        function() { $(this).removeClass(\"ui-state-hover\");}\n",
       "    );\n",
       "\n",
       "    var status_bar = $('<span class=\"mpl-message\"/>');\n",
       "    nav_element.append(status_bar);\n",
       "    this.message = status_bar[0];\n",
       "}\n",
       "\n",
       "mpl.figure.prototype.request_resize = function(x_pixels, y_pixels) {\n",
       "    // Request matplotlib to resize the figure. Matplotlib will then trigger a resize in the client,\n",
       "    // which will in turn request a refresh of the image.\n",
       "    this.send_message('resize', {'width': x_pixels, 'height': y_pixels});\n",
       "}\n",
       "\n",
       "mpl.figure.prototype.send_message = function(type, properties) {\n",
       "    properties['type'] = type;\n",
       "    properties['figure_id'] = this.id;\n",
       "    this.ws.send(JSON.stringify(properties));\n",
       "}\n",
       "\n",
       "mpl.figure.prototype.send_draw_message = function() {\n",
       "    if (!this.waiting) {\n",
       "        this.waiting = true;\n",
       "        this.ws.send(JSON.stringify({type: \"draw\", figure_id: this.id}));\n",
       "    }\n",
       "}\n",
       "\n",
       "\n",
       "mpl.figure.prototype.handle_save = function(fig, msg) {\n",
       "    var format_dropdown = fig.format_dropdown;\n",
       "    var format = format_dropdown.options[format_dropdown.selectedIndex].value;\n",
       "    fig.ondownload(fig, format);\n",
       "}\n",
       "\n",
       "\n",
       "mpl.figure.prototype.handle_resize = function(fig, msg) {\n",
       "    var size = msg['size'];\n",
       "    if (size[0] != fig.canvas.width || size[1] != fig.canvas.height) {\n",
       "        fig._resize_canvas(size[0], size[1]);\n",
       "        fig.send_message(\"refresh\", {});\n",
       "    };\n",
       "}\n",
       "\n",
       "mpl.figure.prototype.handle_rubberband = function(fig, msg) {\n",
       "    var x0 = msg['x0'] / mpl.ratio;\n",
       "    var y0 = (fig.canvas.height - msg['y0']) / mpl.ratio;\n",
       "    var x1 = msg['x1'] / mpl.ratio;\n",
       "    var y1 = (fig.canvas.height - msg['y1']) / mpl.ratio;\n",
       "    x0 = Math.floor(x0) + 0.5;\n",
       "    y0 = Math.floor(y0) + 0.5;\n",
       "    x1 = Math.floor(x1) + 0.5;\n",
       "    y1 = Math.floor(y1) + 0.5;\n",
       "    var min_x = Math.min(x0, x1);\n",
       "    var min_y = Math.min(y0, y1);\n",
       "    var width = Math.abs(x1 - x0);\n",
       "    var height = Math.abs(y1 - y0);\n",
       "\n",
       "    fig.rubberband_context.clearRect(\n",
       "        0, 0, fig.canvas.width, fig.canvas.height);\n",
       "\n",
       "    fig.rubberband_context.strokeRect(min_x, min_y, width, height);\n",
       "}\n",
       "\n",
       "mpl.figure.prototype.handle_figure_label = function(fig, msg) {\n",
       "    // Updates the figure title.\n",
       "    fig.header.textContent = msg['label'];\n",
       "}\n",
       "\n",
       "mpl.figure.prototype.handle_cursor = function(fig, msg) {\n",
       "    var cursor = msg['cursor'];\n",
       "    switch(cursor)\n",
       "    {\n",
       "    case 0:\n",
       "        cursor = 'pointer';\n",
       "        break;\n",
       "    case 1:\n",
       "        cursor = 'default';\n",
       "        break;\n",
       "    case 2:\n",
       "        cursor = 'crosshair';\n",
       "        break;\n",
       "    case 3:\n",
       "        cursor = 'move';\n",
       "        break;\n",
       "    }\n",
       "    fig.rubberband_canvas.style.cursor = cursor;\n",
       "}\n",
       "\n",
       "mpl.figure.prototype.handle_message = function(fig, msg) {\n",
       "    fig.message.textContent = msg['message'];\n",
       "}\n",
       "\n",
       "mpl.figure.prototype.handle_draw = function(fig, msg) {\n",
       "    // Request the server to send over a new figure.\n",
       "    fig.send_draw_message();\n",
       "}\n",
       "\n",
       "mpl.figure.prototype.handle_image_mode = function(fig, msg) {\n",
       "    fig.image_mode = msg['mode'];\n",
       "}\n",
       "\n",
       "mpl.figure.prototype.updated_canvas_event = function() {\n",
       "    // Called whenever the canvas gets updated.\n",
       "    this.send_message(\"ack\", {});\n",
       "}\n",
       "\n",
       "// A function to construct a web socket function for onmessage handling.\n",
       "// Called in the figure constructor.\n",
       "mpl.figure.prototype._make_on_message_function = function(fig) {\n",
       "    return function socket_on_message(evt) {\n",
       "        if (evt.data instanceof Blob) {\n",
       "            /* FIXME: We get \"Resource interpreted as Image but\n",
       "             * transferred with MIME type text/plain:\" errors on\n",
       "             * Chrome.  But how to set the MIME type?  It doesn't seem\n",
       "             * to be part of the websocket stream */\n",
       "            evt.data.type = \"image/png\";\n",
       "\n",
       "            /* Free the memory for the previous frames */\n",
       "            if (fig.imageObj.src) {\n",
       "                (window.URL || window.webkitURL).revokeObjectURL(\n",
       "                    fig.imageObj.src);\n",
       "            }\n",
       "\n",
       "            fig.imageObj.src = (window.URL || window.webkitURL).createObjectURL(\n",
       "                evt.data);\n",
       "            fig.updated_canvas_event();\n",
       "            fig.waiting = false;\n",
       "            return;\n",
       "        }\n",
       "        else if (typeof evt.data === 'string' && evt.data.slice(0, 21) == \"data:image/png;base64\") {\n",
       "            fig.imageObj.src = evt.data;\n",
       "            fig.updated_canvas_event();\n",
       "            fig.waiting = false;\n",
       "            return;\n",
       "        }\n",
       "\n",
       "        var msg = JSON.parse(evt.data);\n",
       "        var msg_type = msg['type'];\n",
       "\n",
       "        // Call the  \"handle_{type}\" callback, which takes\n",
       "        // the figure and JSON message as its only arguments.\n",
       "        try {\n",
       "            var callback = fig[\"handle_\" + msg_type];\n",
       "        } catch (e) {\n",
       "            console.log(\"No handler for the '\" + msg_type + \"' message type: \", msg);\n",
       "            return;\n",
       "        }\n",
       "\n",
       "        if (callback) {\n",
       "            try {\n",
       "                // console.log(\"Handling '\" + msg_type + \"' message: \", msg);\n",
       "                callback(fig, msg);\n",
       "            } catch (e) {\n",
       "                console.log(\"Exception inside the 'handler_\" + msg_type + \"' callback:\", e, e.stack, msg);\n",
       "            }\n",
       "        }\n",
       "    };\n",
       "}\n",
       "\n",
       "// from http://stackoverflow.com/questions/1114465/getting-mouse-location-in-canvas\n",
       "mpl.findpos = function(e) {\n",
       "    //this section is from http://www.quirksmode.org/js/events_properties.html\n",
       "    var targ;\n",
       "    if (!e)\n",
       "        e = window.event;\n",
       "    if (e.target)\n",
       "        targ = e.target;\n",
       "    else if (e.srcElement)\n",
       "        targ = e.srcElement;\n",
       "    if (targ.nodeType == 3) // defeat Safari bug\n",
       "        targ = targ.parentNode;\n",
       "\n",
       "    // jQuery normalizes the pageX and pageY\n",
       "    // pageX,Y are the mouse positions relative to the document\n",
       "    // offset() returns the position of the element relative to the document\n",
       "    var x = e.pageX - $(targ).offset().left;\n",
       "    var y = e.pageY - $(targ).offset().top;\n",
       "\n",
       "    return {\"x\": x, \"y\": y};\n",
       "};\n",
       "\n",
       "/*\n",
       " * return a copy of an object with only non-object keys\n",
       " * we need this to avoid circular references\n",
       " * http://stackoverflow.com/a/24161582/3208463\n",
       " */\n",
       "function simpleKeys (original) {\n",
       "  return Object.keys(original).reduce(function (obj, key) {\n",
       "    if (typeof original[key] !== 'object')\n",
       "        obj[key] = original[key]\n",
       "    return obj;\n",
       "  }, {});\n",
       "}\n",
       "\n",
       "mpl.figure.prototype.mouse_event = function(event, name) {\n",
       "    var canvas_pos = mpl.findpos(event)\n",
       "\n",
       "    if (name === 'button_press')\n",
       "    {\n",
       "        this.canvas.focus();\n",
       "        this.canvas_div.focus();\n",
       "    }\n",
       "\n",
       "    var x = canvas_pos.x * mpl.ratio;\n",
       "    var y = canvas_pos.y * mpl.ratio;\n",
       "\n",
       "    this.send_message(name, {x: x, y: y, button: event.button,\n",
       "                             step: event.step,\n",
       "                             guiEvent: simpleKeys(event)});\n",
       "\n",
       "    /* This prevents the web browser from automatically changing to\n",
       "     * the text insertion cursor when the button is pressed.  We want\n",
       "     * to control all of the cursor setting manually through the\n",
       "     * 'cursor' event from matplotlib */\n",
       "    event.preventDefault();\n",
       "    return false;\n",
       "}\n",
       "\n",
       "mpl.figure.prototype._key_event_extra = function(event, name) {\n",
       "    // Handle any extra behaviour associated with a key event\n",
       "}\n",
       "\n",
       "mpl.figure.prototype.key_event = function(event, name) {\n",
       "\n",
       "    // Prevent repeat events\n",
       "    if (name == 'key_press')\n",
       "    {\n",
       "        if (event.which === this._key)\n",
       "            return;\n",
       "        else\n",
       "            this._key = event.which;\n",
       "    }\n",
       "    if (name == 'key_release')\n",
       "        this._key = null;\n",
       "\n",
       "    var value = '';\n",
       "    if (event.ctrlKey && event.which != 17)\n",
       "        value += \"ctrl+\";\n",
       "    if (event.altKey && event.which != 18)\n",
       "        value += \"alt+\";\n",
       "    if (event.shiftKey && event.which != 16)\n",
       "        value += \"shift+\";\n",
       "\n",
       "    value += 'k';\n",
       "    value += event.which.toString();\n",
       "\n",
       "    this._key_event_extra(event, name);\n",
       "\n",
       "    this.send_message(name, {key: value,\n",
       "                             guiEvent: simpleKeys(event)});\n",
       "    return false;\n",
       "}\n",
       "\n",
       "mpl.figure.prototype.toolbar_button_onclick = function(name) {\n",
       "    if (name == 'download') {\n",
       "        this.handle_save(this, null);\n",
       "    } else {\n",
       "        this.send_message(\"toolbar_button\", {name: name});\n",
       "    }\n",
       "};\n",
       "\n",
       "mpl.figure.prototype.toolbar_button_onmouseover = function(tooltip) {\n",
       "    this.message.textContent = tooltip;\n",
       "};\n",
       "mpl.toolbar_items = [[\"Home\", \"Reset original view\", \"fa fa-home icon-home\", \"home\"], [\"Back\", \"Back to previous view\", \"fa fa-arrow-left icon-arrow-left\", \"back\"], [\"Forward\", \"Forward to next view\", \"fa fa-arrow-right icon-arrow-right\", \"forward\"], [\"\", \"\", \"\", \"\"], [\"Pan\", \"Pan axes with left mouse, zoom with right\", \"fa fa-arrows icon-move\", \"pan\"], [\"Zoom\", \"Zoom to rectangle\", \"fa fa-square-o icon-check-empty\", \"zoom\"], [\"\", \"\", \"\", \"\"], [\"Download\", \"Download plot\", \"fa fa-floppy-o icon-save\", \"download\"]];\n",
       "\n",
       "mpl.extensions = [\"eps\", \"jpeg\", \"pdf\", \"png\", \"ps\", \"raw\", \"svg\", \"tif\"];\n",
       "\n",
       "mpl.default_extension = \"png\";var comm_websocket_adapter = function(comm) {\n",
       "    // Create a \"websocket\"-like object which calls the given IPython comm\n",
       "    // object with the appropriate methods. Currently this is a non binary\n",
       "    // socket, so there is still some room for performance tuning.\n",
       "    var ws = {};\n",
       "\n",
       "    ws.close = function() {\n",
       "        comm.close()\n",
       "    };\n",
       "    ws.send = function(m) {\n",
       "        //console.log('sending', m);\n",
       "        comm.send(m);\n",
       "    };\n",
       "    // Register the callback with on_msg.\n",
       "    comm.on_msg(function(msg) {\n",
       "        //console.log('receiving', msg['content']['data'], msg);\n",
       "        // Pass the mpl event to the overridden (by mpl) onmessage function.\n",
       "        ws.onmessage(msg['content']['data'])\n",
       "    });\n",
       "    return ws;\n",
       "}\n",
       "\n",
       "mpl.mpl_figure_comm = function(comm, msg) {\n",
       "    // This is the function which gets called when the mpl process\n",
       "    // starts-up an IPython Comm through the \"matplotlib\" channel.\n",
       "\n",
       "    var id = msg.content.data.id;\n",
       "    // Get hold of the div created by the display call when the Comm\n",
       "    // socket was opened in Python.\n",
       "    var element = $(\"#\" + id);\n",
       "    var ws_proxy = comm_websocket_adapter(comm)\n",
       "\n",
       "    function ondownload(figure, format) {\n",
       "        window.open(figure.imageObj.src);\n",
       "    }\n",
       "\n",
       "    var fig = new mpl.figure(id, ws_proxy,\n",
       "                           ondownload,\n",
       "                           element.get(0));\n",
       "\n",
       "    // Call onopen now - mpl needs it, as it is assuming we've passed it a real\n",
       "    // web socket which is closed, not our websocket->open comm proxy.\n",
       "    ws_proxy.onopen();\n",
       "\n",
       "    fig.parent_element = element.get(0);\n",
       "    fig.cell_info = mpl.find_output_cell(\"<div id='\" + id + \"'></div>\");\n",
       "    if (!fig.cell_info) {\n",
       "        console.error(\"Failed to find cell for figure\", id, fig);\n",
       "        return;\n",
       "    }\n",
       "\n",
       "    var output_index = fig.cell_info[2]\n",
       "    var cell = fig.cell_info[0];\n",
       "\n",
       "};\n",
       "\n",
       "mpl.figure.prototype.handle_close = function(fig, msg) {\n",
       "    var width = fig.canvas.width/mpl.ratio\n",
       "    fig.root.unbind('remove')\n",
       "\n",
       "    // Update the output cell to use the data from the current canvas.\n",
       "    fig.push_to_output();\n",
       "    var dataURL = fig.canvas.toDataURL();\n",
       "    // Re-enable the keyboard manager in IPython - without this line, in FF,\n",
       "    // the notebook keyboard shortcuts fail.\n",
       "    IPython.keyboard_manager.enable()\n",
       "    $(fig.parent_element).html('<img src=\"' + dataURL + '\" width=\"' + width + '\">');\n",
       "    fig.close_ws(fig, msg);\n",
       "}\n",
       "\n",
       "mpl.figure.prototype.close_ws = function(fig, msg){\n",
       "    fig.send_message('closing', msg);\n",
       "    // fig.ws.close()\n",
       "}\n",
       "\n",
       "mpl.figure.prototype.push_to_output = function(remove_interactive) {\n",
       "    // Turn the data on the canvas into data in the output cell.\n",
       "    var width = this.canvas.width/mpl.ratio\n",
       "    var dataURL = this.canvas.toDataURL();\n",
       "    this.cell_info[1]['text/html'] = '<img src=\"' + dataURL + '\" width=\"' + width + '\">';\n",
       "}\n",
       "\n",
       "mpl.figure.prototype.updated_canvas_event = function() {\n",
       "    // Tell IPython that the notebook contents must change.\n",
       "    IPython.notebook.set_dirty(true);\n",
       "    this.send_message(\"ack\", {});\n",
       "    var fig = this;\n",
       "    // Wait a second, then push the new image to the DOM so\n",
       "    // that it is saved nicely (might be nice to debounce this).\n",
       "    setTimeout(function () { fig.push_to_output() }, 1000);\n",
       "}\n",
       "\n",
       "mpl.figure.prototype._init_toolbar = function() {\n",
       "    var fig = this;\n",
       "\n",
       "    var nav_element = $('<div/>');\n",
       "    nav_element.attr('style', 'width: 100%');\n",
       "    this.root.append(nav_element);\n",
       "\n",
       "    // Define a callback function for later on.\n",
       "    function toolbar_event(event) {\n",
       "        return fig.toolbar_button_onclick(event['data']);\n",
       "    }\n",
       "    function toolbar_mouse_event(event) {\n",
       "        return fig.toolbar_button_onmouseover(event['data']);\n",
       "    }\n",
       "\n",
       "    for(var toolbar_ind in mpl.toolbar_items){\n",
       "        var name = mpl.toolbar_items[toolbar_ind][0];\n",
       "        var tooltip = mpl.toolbar_items[toolbar_ind][1];\n",
       "        var image = mpl.toolbar_items[toolbar_ind][2];\n",
       "        var method_name = mpl.toolbar_items[toolbar_ind][3];\n",
       "\n",
       "        if (!name) { continue; };\n",
       "\n",
       "        var button = $('<button class=\"btn btn-default\" href=\"#\" title=\"' + name + '\"><i class=\"fa ' + image + ' fa-lg\"></i></button>');\n",
       "        button.click(method_name, toolbar_event);\n",
       "        button.mouseover(tooltip, toolbar_mouse_event);\n",
       "        nav_element.append(button);\n",
       "    }\n",
       "\n",
       "    // Add the status bar.\n",
       "    var status_bar = $('<span class=\"mpl-message\" style=\"text-align:right; float: right;\"/>');\n",
       "    nav_element.append(status_bar);\n",
       "    this.message = status_bar[0];\n",
       "\n",
       "    // Add the close button to the window.\n",
       "    var buttongrp = $('<div class=\"btn-group inline pull-right\"></div>');\n",
       "    var button = $('<button class=\"btn btn-mini btn-primary\" href=\"#\" title=\"Stop Interaction\"><i class=\"fa fa-power-off icon-remove icon-large\"></i></button>');\n",
       "    button.click(function (evt) { fig.handle_close(fig, {}); } );\n",
       "    button.mouseover('Stop Interaction', toolbar_mouse_event);\n",
       "    buttongrp.append(button);\n",
       "    var titlebar = this.root.find($('.ui-dialog-titlebar'));\n",
       "    titlebar.prepend(buttongrp);\n",
       "}\n",
       "\n",
       "mpl.figure.prototype._root_extra_style = function(el){\n",
       "    var fig = this\n",
       "    el.on(\"remove\", function(){\n",
       "\tfig.close_ws(fig, {});\n",
       "    });\n",
       "}\n",
       "\n",
       "mpl.figure.prototype._canvas_extra_style = function(el){\n",
       "    // this is important to make the div 'focusable\n",
       "    el.attr('tabindex', 0)\n",
       "    // reach out to IPython and tell the keyboard manager to turn it's self\n",
       "    // off when our div gets focus\n",
       "\n",
       "    // location in version 3\n",
       "    if (IPython.notebook.keyboard_manager) {\n",
       "        IPython.notebook.keyboard_manager.register_events(el);\n",
       "    }\n",
       "    else {\n",
       "        // location in version 2\n",
       "        IPython.keyboard_manager.register_events(el);\n",
       "    }\n",
       "\n",
       "}\n",
       "\n",
       "mpl.figure.prototype._key_event_extra = function(event, name) {\n",
       "    var manager = IPython.notebook.keyboard_manager;\n",
       "    if (!manager)\n",
       "        manager = IPython.keyboard_manager;\n",
       "\n",
       "    // Check for shift+enter\n",
       "    if (event.shiftKey && event.which == 13) {\n",
       "        this.canvas_div.blur();\n",
       "        event.shiftKey = false;\n",
       "        // Send a \"J\" for go to next cell\n",
       "        event.which = 74;\n",
       "        event.keyCode = 74;\n",
       "        manager.command_mode();\n",
       "        manager.handle_keydown(event);\n",
       "    }\n",
       "}\n",
       "\n",
       "mpl.figure.prototype.handle_save = function(fig, msg) {\n",
       "    fig.ondownload(fig, null);\n",
       "}\n",
       "\n",
       "\n",
       "mpl.find_output_cell = function(html_output) {\n",
       "    // Return the cell and output element which can be found *uniquely* in the notebook.\n",
       "    // Note - this is a bit hacky, but it is done because the \"notebook_saving.Notebook\"\n",
       "    // IPython event is triggered only after the cells have been serialised, which for\n",
       "    // our purposes (turning an active figure into a static one), is too late.\n",
       "    var cells = IPython.notebook.get_cells();\n",
       "    var ncells = cells.length;\n",
       "    for (var i=0; i<ncells; i++) {\n",
       "        var cell = cells[i];\n",
       "        if (cell.cell_type === 'code'){\n",
       "            for (var j=0; j<cell.output_area.outputs.length; j++) {\n",
       "                var data = cell.output_area.outputs[j];\n",
       "                if (data.data) {\n",
       "                    // IPython >= 3 moved mimebundle to data attribute of output\n",
       "                    data = data.data;\n",
       "                }\n",
       "                if (data['text/html'] == html_output) {\n",
       "                    return [cell, data, j];\n",
       "                }\n",
       "            }\n",
       "        }\n",
       "    }\n",
       "}\n",
       "\n",
       "// Register the function which deals with the matplotlib target/channel.\n",
       "// The kernel may be null if the page has been refreshed.\n",
       "if (IPython.notebook.kernel != null) {\n",
       "    IPython.notebook.kernel.comm_manager.register_target('matplotlib', mpl.mpl_figure_comm);\n",
       "}\n"
      ],
      "text/plain": [
       "<IPython.core.display.Javascript object>"
      ]
     },
     "metadata": {},
     "output_type": "display_data"
    },
    {
     "data": {
      "text/html": [
       "<img src=\"data:image/png;base64,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\" width=\"640\">"
      ],
      "text/plain": [
       "<IPython.core.display.HTML object>"
      ]
     },
     "metadata": {},
     "output_type": "display_data"
    }
   ],
   "source": [
    "from matplotlib import pyplot as plt\n",
    "from scipy.cluster.hierarchy import dendrogram\n",
    "\n",
    "from sklearn.cluster import AgglomerativeClustering\n",
    "from sklearn.datasets import load_iris\n",
    "\n",
    "\n",
    "def plot_dendrogram(model, **kwargs):\n",
    "    # Create linkage matrix and then plot the dendrogram\n",
    "\n",
    "    # create the counts of samples under each node\n",
    "    counts = np.zeros(model.children_.shape[0])\n",
    "    n_samples = len(model.labels_)\n",
    "    for i, merge in enumerate(model.children_):\n",
    "        current_count = 0\n",
    "        for child_idx in merge:\n",
    "            if child_idx < n_samples:\n",
    "                current_count += 1  # leaf node\n",
    "            else:\n",
    "                current_count += counts[child_idx - n_samples]\n",
    "        counts[i] = current_count\n",
    "\n",
    "    linkage_matrix = np.column_stack(\n",
    "        [model.children_, model.distances_, counts]\n",
    "    ).astype(float)\n",
    "\n",
    "    # Plot the corresponding dendrogram\n",
    "    dendrogram(linkage_matrix, **kwargs)\n",
    "\n",
    "\n",
    "iris = load_iris()\n",
    "X = iris.data\n",
    "\n",
    "# setting distance_threshold=0 ensures we compute the full tree.\n",
    "model = AgglomerativeClustering(distance_threshold=0, n_clusters=None)\n",
    "\n",
    "model = model.fit(X)\n",
    "plt.title(\"Hierarchical Clustering Dendrogram\")\n",
    "# plot the top three levels of the dendrogram\n",
    "plot_dendrogram(model, truncate_mode=\"level\", p=3)\n",
    "plt.xlabel(\"Number of points in node (or index of point if no parenthesis).\")\n",
    "plt.show()"
   ]
  },
  {
   "cell_type": "code",
   "execution_count": null,
   "metadata": {},
   "outputs": [],
   "source": []
  }
 ],
 "metadata": {
  "kernelspec": {
   "display_name": "Python 3",
   "language": "python",
   "name": "python3"
  },
  "language_info": {
   "codemirror_mode": {
    "name": "ipython",
    "version": 3
   },
   "file_extension": ".py",
   "mimetype": "text/x-python",
   "name": "python",
   "nbconvert_exporter": "python",
   "pygments_lexer": "ipython3",
   "version": "3.7.3"
  }
 },
 "nbformat": 4,
 "nbformat_minor": 2
}
